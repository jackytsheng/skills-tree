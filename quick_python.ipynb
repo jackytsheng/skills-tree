{
 "cells": [
  {
   "cell_type": "code",
   "execution_count": 1,
   "metadata": {},
   "outputs": [
    {
     "data": {
      "text/plain": [
       "['Tries',\n",
       " 'Linked List',\n",
       " 'Math & Geometry',\n",
       " 'Two Pointers',\n",
       " '1-D DP',\n",
       " 'Sliding Window',\n",
       " 'Bit Manipulation',\n",
       " 'ESC',\n",
       " 'Stack',\n",
       " 'Greedy',\n",
       " 'Arrays & Hashing',\n",
       " '2-D DP',\n",
       " 'Advanced Graphs',\n",
       " 'Graphs',\n",
       " 'Intervals',\n",
       " 'Backtracking',\n",
       " 'Heap / Priority Queue',\n",
       " 'Binary Search',\n",
       " 'Trees']"
      ]
     },
     "execution_count": 1,
     "metadata": {},
     "output_type": "execute_result"
    }
   ],
   "source": [
    "a = ['Arrays & Hashing', 'Arrays & Hashing', 'Two Pointers', 'Two Pointers', 'Binary Search', 'Binary Search', 'Stack', 'Stack', 'Sliding Window', 'Sliding Window', 'Linked List', 'Linked List', 'Trees', 'Trees', 'Tries', 'Tries', 'Heap / Priority Queue', 'Heap / Priority Queue', 'Backtracking', 'Backtracking', 'Graphs', 'Graphs', '1-D DP', '1-D DP', 'Intervals', 'Intervals', 'Advanced Graphs', 'Advanced Graphs', 'Math & Geometry', 'Math & Geometry', '2-D DP', '2-D DP', 'Bit Manipulation', 'Bit Manipulation', 'Greedy', 'Greedy', 'ESC']\n",
    "list(set(a))\n"
   ]
  }
 ],
 "metadata": {
  "kernelspec": {
   "display_name": ".venv",
   "language": "python",
   "name": "python3"
  },
  "language_info": {
   "codemirror_mode": {
    "name": "ipython",
    "version": 3
   },
   "file_extension": ".py",
   "mimetype": "text/x-python",
   "name": "python",
   "nbconvert_exporter": "python",
   "pygments_lexer": "ipython3",
   "version": "3.11.2"
  },
  "orig_nbformat": 4
 },
 "nbformat": 4,
 "nbformat_minor": 2
}
